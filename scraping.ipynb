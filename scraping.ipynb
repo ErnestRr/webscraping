{
 "cells": [
  {
   "cell_type": "markdown",
   "metadata": {},
   "source": [
    "## Web Scraping - Python"
   ]
  },
  {
   "cell_type": "code",
   "execution_count": 139,
   "metadata": {},
   "outputs": [],
   "source": [
    "#importamos librerias\n",
    "import requests\n",
    "from bs4 import BeautifulSoup"
   ]
  },
  {
   "cell_type": "markdown",
   "metadata": {},
   "source": [
    "### Bibliotecas externas"
   ]
  },
  {
   "cell_type": "code",
   "execution_count": 140,
   "metadata": {},
   "outputs": [],
   "source": [
    "url = \"https://listado.mercadolibre.com.mx/raspberry-pi4#D[A:raspberry%20pi4]\"\n",
    "response = requests.get(url)"
   ]
  },
  {
   "cell_type": "markdown",
   "metadata": {},
   "source": [
    "### Request del contenido de la página web"
   ]
  },
  {
   "cell_type": "code",
   "execution_count": 141,
   "metadata": {},
   "outputs": [
    {
     "data": {
      "text/plain": [
       "<Response [200]>"
      ]
     },
     "execution_count": 141,
     "metadata": {},
     "output_type": "execute_result"
    }
   ],
   "source": [
    "response"
   ]
  },
  {
   "cell_type": "markdown",
   "metadata": {},
   "source": [
    "### Activar la biblioteca Beautiful Soup"
   ]
  },
  {
   "cell_type": "code",
   "execution_count": 142,
   "metadata": {},
   "outputs": [],
   "source": [
    "soup = BeautifulSoup(response.text,\"html.parser\")"
   ]
  },
  {
   "cell_type": "code",
   "execution_count": 143,
   "metadata": {},
   "outputs": [],
   "source": [
    "main = soup.find('div',class_='ui-search')\n",
    "products = main.find('ol',class_='ui-search-layout ui-search-layout--stack shops__layout')\n",
    "products = products.find_all('li')"
   ]
  },
  {
   "cell_type": "code",
   "execution_count": 146,
   "metadata": {},
   "outputs": [
    {
     "name": "stdout",
     "output_type": "stream",
     "text": [
      "Raspberry Pi 4 B 2gb Ram Original Uk Pi4 Modelo B 4b\n",
      "Raspberry Pi 4 Modelo B 2gb Ram Carcasa Fuente 5v 3a Pi4 Kit\n",
      "Raspberry Pi 4 Modelo B 2019 Quad Core 64 Bit Wifi Blueto...\n",
      "Raspberry Pi 4 B 4gb Ram Original Uk Pi4 Modelo B 4b\n",
      "Raspberry Pi 4 8gb Carcasa Ventilador Sd 32gb Hdmi Pi4 B Kit\n",
      "Raspberry Pi 4 B 8gb Ram Original Pi4 Model B Wifi Bluetooth\n",
      "Raspberry Pi 4 B 8gb Case Display Lcd 3.5 Ventilador Kit Pi4\n",
      "Raspberry Pi 4 B 8gb Carcasa Disipador Ventilador Fuente Pi4\n",
      "Raspberry Pi 4 B 2gb Case Ventilador Fuente Switch Pi4 Kit\n",
      "Raspberry Pi 4 B 8gb Carcasa Case Eliminador Oficial Pi4 Kit\n",
      "Raspberry Pi 4 4gb Case Eliminador Ventilador 32gb Pi4 B Kit\n",
      "Raspberry Pi 4 B 4gb Carcasa Case Eliminador Oficial Pi4 Kit\n",
      "Raspberry Pi 4 2gb Carcasa Fuente Switch Ventilador Pi4 Kit\n",
      "Raspberry Pi 4 8gb Ram Carcasa Flirc Disipador Aluminio Pi4\n",
      "Raspberry Pi 4 B 2gb Carcasa Disipador Ventilador Fuente Switch Microsd 32gb Hdmi Pi4 Kit\n",
      "Raspberry Pi 4 B 4gb Case Display Lcd 3.5 Ventilador Kit Pi4\n",
      "Raspberry Pi 4 B 2gb Case Display Lcd 3.5 Ventilador Kit Pi4\n",
      "Raspberry Pi 4 8gb Ram Carcasa Aluminio Sd 32gb Hdmi Kit Pi4\n",
      "Raspberry Pi 4 2gb Carcasa Ventilador Sd 32gb Hdmi Pi4 B Kit\n",
      "Raspberry Pi 4 B 2gb Carcasa Case Eliminador Oficial Pi4 Kit\n",
      "Raspberry Pi 4 4gb Carcasa Fuente Switch Ventilador Pi4 Kit\n",
      "Raspberry Pi 4 4gb Case Disipador Ventilador Fuente Pi4 Kit\n",
      "Raspberry Pi 4 B 4gb Case Flirc Disipador Aluminio Fuente Pi4 Kit\n",
      "Raspberry Pi 4 B 1gb Carcasa Case Eliminador Oficial Pi4 Kit\n",
      "Raspberry Pi 4 8gb Carcasa Fuente Switch Ventilador Pi4 Kit\n",
      "Raspberry Pi 4 8gb Case Disipador Ventilador Fuente Pi4 Kit\n",
      "Raspberry Pi 4 B 4gb Carcasa Case Eliminador Oficial Pi4 Kit\n"
     ]
    }
   ],
   "source": [
    "for product in products:\n",
    "    product_info = product.find('h2')\n",
    "    if product_info.text.startswith('Raspberry Pi 4'):\n",
    "      print(product_info.text)\n"
   ]
  }
 ],
 "metadata": {
  "kernelspec": {
   "display_name": "Python 3",
   "language": "python",
   "name": "python3"
  },
  "language_info": {
   "codemirror_mode": {
    "name": "ipython",
    "version": 3
   },
   "file_extension": ".py",
   "mimetype": "text/x-python",
   "name": "python",
   "nbconvert_exporter": "python",
   "pygments_lexer": "ipython3",
   "version": "3.12.3"
  }
 },
 "nbformat": 4,
 "nbformat_minor": 2
}
